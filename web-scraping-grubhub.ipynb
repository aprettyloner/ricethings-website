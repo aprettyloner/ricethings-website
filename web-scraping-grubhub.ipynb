{
 "cells": [
  {
   "cell_type": "code",
   "execution_count": 45,
   "metadata": {},
   "outputs": [],
   "source": [
    "from pymongo import MongoClient\n",
    "client = MongoClient('mongodb://127.0.0.1', 27017)\n",
    "# Access/Initiate Database\n",
    "db = client.ebay\n",
    "# Access/Initiate Table\n",
    "tab = db.table\n"
   ]
  },
  {
   "cell_type": "code",
   "execution_count": 46,
   "metadata": {},
   "outputs": [],
   "source": [
    "import warnings\n",
    "warnings.filterwarnings('ignore')\n",
    "import copy\n",
    "import pandas as pd\n",
    "\n",
    "# Requests sends and recieves HTTP requests.\n",
    "import requests\n",
    "\n",
    "# Beautiful Soup parses HTML documents in python.\n",
    "from bs4 import BeautifulSoup\n",
    "from pymongo import MongoClient\n",
    "import pprint"
   ]
  },
  {
   "cell_type": "code",
   "execution_count": 103,
   "metadata": {},
   "outputs": [],
   "source": [
    "ebay_url='data/ebay_shoes.html'\n",
    "with open(ebay_url, 'r') as f:\n",
    "    s= f.read()\n",
    "soup = BeautifulSoup(s, \"html\")\n"
   ]
  },
  {
   "cell_type": "code",
   "execution_count": 104,
   "metadata": {
    "scrolled": true
   },
   "outputs": [
    {
     "data": {
      "text/plain": [
       "<pymongo.results.InsertOneResult at 0x7f69ead19148>"
      ]
     },
     "execution_count": 104,
     "metadata": {},
     "output_type": "execute_result"
    }
   ],
   "source": [
    "tab.insert_one({'html': s})"
   ]
  },
  {
   "cell_type": "code",
   "execution_count": 142,
   "metadata": {},
   "outputs": [
    {
     "name": "stdout",
     "output_type": "stream",
     "text": [
      "cp /home/nina/dsi-work/day-3/web-scraping/data/ebay_shoes_files/mJtUO8zZhjwQzjqh3arZ6BA.jpg /home/nina/dsi-work/day-3/web-scraping/ImageFiles\n",
      "cp /home/nina/dsi-work/day-3/web-scraping/data/ebay_shoes_files/mwiFWleobXkPHMEGM5_9ptQ.jpg /home/nina/dsi-work/day-3/web-scraping/ImageFiles\n",
      "cp /home/nina/dsi-work/day-3/web-scraping/data/ebay_shoes_files/mykGgapI1PTZi058nlo-pyw.jpg /home/nina/dsi-work/day-3/web-scraping/ImageFiles\n",
      "cp /home/nina/dsi-work/day-3/web-scraping/data/ebay_shoes_files/mUpyhvMcfYrElFiMBEqXHmg.jpg /home/nina/dsi-work/day-3/web-scraping/ImageFiles\n",
      "cp /home/nina/dsi-work/day-3/web-scraping/data/ebay_shoes_files/mlb-QMQYQ-tAzs0PuvwMrGA.jpg /home/nina/dsi-work/day-3/web-scraping/ImageFiles\n",
      "cp /home/nina/dsi-work/day-3/web-scraping/data/ebay_shoes_files/m8XeN04c02pW40nMvmDcOlA.jpg /home/nina/dsi-work/day-3/web-scraping/ImageFiles\n",
      "cp /home/nina/dsi-work/day-3/web-scraping/data/ebay_shoes_files/mnsC4wTn7E8hXnQgzMiMaqw.jpg /home/nina/dsi-work/day-3/web-scraping/ImageFiles\n",
      "cp /home/nina/dsi-work/day-3/web-scraping/data/ebay_shoes_files/191550487568_1.jpg /home/nina/dsi-work/day-3/web-scraping/ImageFiles\n",
      "cp /home/nina/dsi-work/day-3/web-scraping/data/ebay_shoes_files/mmXil7R_hLf4Gnd9EhfzD3g.jpg /home/nina/dsi-work/day-3/web-scraping/ImageFiles\n",
      "cp /home/nina/dsi-work/day-3/web-scraping/data/ebay_shoes_files/mCf1peFbkB6cW8cpCB394pQ.jpg /home/nina/dsi-work/day-3/web-scraping/ImageFiles\n",
      "cp /home/nina/dsi-work/day-3/web-scraping/data/ebay_shoes_files/mjhj6cMGXtEpGrxVN96CCfg.jpg /home/nina/dsi-work/day-3/web-scraping/ImageFiles\n",
      "cp /home/nina/dsi-work/day-3/web-scraping/data/ebay_shoes_files/261827105853_1.jpg /home/nina/dsi-work/day-3/web-scraping/ImageFiles\n",
      "cp /home/nina/dsi-work/day-3/web-scraping/data/ebay_shoes_files/121612297064_1.jpg /home/nina/dsi-work/day-3/web-scraping/ImageFiles\n",
      "cp /home/nina/dsi-work/day-3/web-scraping/data/ebay_shoes_files/191550477937_1.jpg /home/nina/dsi-work/day-3/web-scraping/ImageFiles\n",
      "cp /home/nina/dsi-work/day-3/web-scraping/data/ebay_shoes_files/mA7jJs2pEcZ5LufNvDmGVkw.jpg /home/nina/dsi-work/day-3/web-scraping/ImageFiles\n",
      "cp /home/nina/dsi-work/day-3/web-scraping/data/ebay_shoes_files/191550485767_1.jpg /home/nina/dsi-work/day-3/web-scraping/ImageFiles\n",
      "cp /home/nina/dsi-work/day-3/web-scraping/data/ebay_shoes_files/191550485767_1.jpg /home/nina/dsi-work/day-3/web-scraping/ImageFiles\n",
      "cp /home/nina/dsi-work/day-3/web-scraping/data/ebay_shoes_files/191550485767_1.jpg /home/nina/dsi-work/day-3/web-scraping/ImageFiles\n",
      "cp /home/nina/dsi-work/day-3/web-scraping/data/ebay_shoes_files/191550485767_1.jpg /home/nina/dsi-work/day-3/web-scraping/ImageFiles\n",
      "cp /home/nina/dsi-work/day-3/web-scraping/data/ebay_shoes_files/191550485767_1.jpg /home/nina/dsi-work/day-3/web-scraping/ImageFiles\n",
      "cp /home/nina/dsi-work/day-3/web-scraping/data/ebay_shoes_files/191550485767_1.jpg /home/nina/dsi-work/day-3/web-scraping/ImageFiles\n",
      "cp /home/nina/dsi-work/day-3/web-scraping/data/ebay_shoes_files/191550485767_1.jpg /home/nina/dsi-work/day-3/web-scraping/ImageFiles\n",
      "cp /home/nina/dsi-work/day-3/web-scraping/data/ebay_shoes_files/191550485767_1.jpg /home/nina/dsi-work/day-3/web-scraping/ImageFiles\n",
      "cp /home/nina/dsi-work/day-3/web-scraping/data/ebay_shoes_files/191550485767_1.jpg /home/nina/dsi-work/day-3/web-scraping/ImageFiles\n",
      "cp /home/nina/dsi-work/day-3/web-scraping/data/ebay_shoes_files/191550485767_1.jpg /home/nina/dsi-work/day-3/web-scraping/ImageFiles\n",
      "cp /home/nina/dsi-work/day-3/web-scraping/data/ebay_shoes_files/191550485767_1.jpg /home/nina/dsi-work/day-3/web-scraping/ImageFiles\n",
      "cp /home/nina/dsi-work/day-3/web-scraping/data/ebay_shoes_files/191550485767_1.jpg /home/nina/dsi-work/day-3/web-scraping/ImageFiles\n",
      "cp /home/nina/dsi-work/day-3/web-scraping/data/ebay_shoes_files/191550485767_1.jpg /home/nina/dsi-work/day-3/web-scraping/ImageFiles\n",
      "cp /home/nina/dsi-work/day-3/web-scraping/data/ebay_shoes_files/191550485767_1.jpg /home/nina/dsi-work/day-3/web-scraping/ImageFiles\n",
      "cp /home/nina/dsi-work/day-3/web-scraping/data/ebay_shoes_files/191550485767_1.jpg /home/nina/dsi-work/day-3/web-scraping/ImageFiles\n",
      "cp /home/nina/dsi-work/day-3/web-scraping/data/ebay_shoes_files/191550485767_1.jpg /home/nina/dsi-work/day-3/web-scraping/ImageFiles\n",
      "cp /home/nina/dsi-work/day-3/web-scraping/data/ebay_shoes_files/191550485767_1.jpg /home/nina/dsi-work/day-3/web-scraping/ImageFiles\n",
      "cp /home/nina/dsi-work/day-3/web-scraping/data/ebay_shoes_files/191550485767_1.jpg /home/nina/dsi-work/day-3/web-scraping/ImageFiles\n",
      "cp /home/nina/dsi-work/day-3/web-scraping/data/ebay_shoes_files/191550485767_1.jpg /home/nina/dsi-work/day-3/web-scraping/ImageFiles\n",
      "cp /home/nina/dsi-work/day-3/web-scraping/data/ebay_shoes_files/191550485767_1.jpg /home/nina/dsi-work/day-3/web-scraping/ImageFiles\n",
      "cp /home/nina/dsi-work/day-3/web-scraping/data/ebay_shoes_files/191550485767_1.jpg /home/nina/dsi-work/day-3/web-scraping/ImageFiles\n"
     ]
    }
   ],
   "source": [
    "#'sresult lvresult clearfix li'\n",
    "#import cv2\n",
    "import os\n",
    "arts = soup.find_all(\"li\", {\"class\": \"sresult lvresult clearfix li\"})\n",
    "path='/home/nina/dsi-work/day-3/web-scraping/ImageFiles'\n",
    "\n",
    "for x in arts:\n",
    "    links = x.find(\"a\",{\"class\":\"img imgWr2\"})\n",
    "    #print(links.find(\"img\",src=True)['src'])     # print(ebay_url+links.find(\"img\",src=True)['src'][1:])\n",
    "    if links!=None:\n",
    "        #cmd_str = \"cp data\"+str(links.find(\"img\",src=True)['src'][1:]) + \" \" +path\n",
    "        #cmd_str=\"cp /home/nina/dsi-work/day-3/web-scraping/data/ebay_shoes_files/mlb-QMQYQ-tAzs0PuvwMrGA.jpg /home/nina/dsi-work/day-3/web-scraping/ImageFiles/\"\n",
    "        cmd_str = \"cp /home/nina/dsi-work/day-3/web-scraping/data\"+str(links.find(\"img\",src=True)['src'][1:]) + \" \" +path\n",
    "    print(cmd_str)\n",
    "\n",
    "    \n",
    "    #!cp links.find(\"img\",src=True)['src'] path+links.find(\"img\",src=True)['src'][1:],links.find(\"img\",src=True)['src'][1:]\n",
    "#    save_pic = cv2.imwrite(path+links.find(\"img\",src=True)['src'][1:],links.find(\"img\",src=True)['src'][1:])\n",
    "    #print('img >>>>',\"http://books.toscrape.com/\"+links.find(\"img\",src=True)['src'])\n"
   ]
  },
  {
   "cell_type": "code",
   "execution_count": 44,
   "metadata": {},
   "outputs": [
    {
     "data": {
      "text/plain": [
       "<pymongo.results.InsertOneResult at 0x7f69ebced188>"
      ]
     },
     "execution_count": 44,
     "metadata": {},
     "output_type": "execute_result"
    }
   ],
   "source": []
  },
  {
   "cell_type": "code",
   "execution_count": null,
   "metadata": {},
   "outputs": [],
   "source": []
  },
  {
   "cell_type": "code",
   "execution_count": 29,
   "metadata": {},
   "outputs": [],
   "source": [
    "# tab.insert_one({\n",
    "#     'name': 'RainbowDash', \n",
    "#     'age': 16, \n",
    "#     'friends': ['TwilightSparkle', 'Applejack', 'Rarity']})\n",
    "# myquery = {'age':16}\n",
    "# newvalues = { \"$set\": { \"friends\": \"Canyon 123\" } }\n",
    "# tab.update_one(myquery,newvalues) \n",
    "# newvalues = {\"$set\":{'friends': ['TwilightSparkle', 'Applejack', 'Rarity']}}\n",
    "# tab.update_one(myquery,newvalues)  "
   ]
  }
 ],
 "metadata": {
  "kernelspec": {
   "display_name": "Python 3",
   "language": "python",
   "name": "python3"
  },
  "language_info": {
   "codemirror_mode": {
    "name": "ipython",
    "version": 3
   },
   "file_extension": ".py",
   "mimetype": "text/x-python",
   "name": "python",
   "nbconvert_exporter": "python",
   "pygments_lexer": "ipython3",
   "version": "3.7.3"
  }
 },
 "nbformat": 4,
 "nbformat_minor": 2
}
